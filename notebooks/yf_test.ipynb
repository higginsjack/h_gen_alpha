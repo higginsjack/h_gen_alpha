{
 "cells": [
  {
   "cell_type": "code",
   "execution_count": null,
   "metadata": {},
   "outputs": [],
   "source": [
    "import yfinance as yf\n",
    "import pandas as pd\n",
    "from plotly import graph_objs as go\n",
    "import datetime"
   ]
  },
  {
   "cell_type": "code",
   "execution_count": null,
   "metadata": {},
   "outputs": [
    {
     "data": {
      "text/plain": [
       "Historical Data:\n",
       "                            Open   High    Low  ...  Volume  Dividends  Stock Splits\n",
       "Datetime                                        ...                                 \n",
       "2024-11-15 09:30:00-05:00  2.620  2.620  2.575  ...       0        0.0           0.0\n",
       "2024-11-15 09:31:00-05:00  2.600  2.600  2.565  ...    1500        0.0           0.0\n",
       "2024-11-15 09:32:00-05:00  2.585  2.585  2.585  ...    2000        0.0           0.0\n",
       "2024-11-15 09:33:00-05:00  2.600  2.600  2.600  ...       0        0.0           0.0\n",
       "2024-11-15 09:34:00-05:00  2.570  2.570  2.550  ...     935        0.0           0.0\n",
       "...                          ...    ...    ...  ...     ...        ...           ...\n",
       "2024-11-15 15:55:00-05:00  2.405  2.405  2.405  ...    1225        0.0           0.0\n",
       "2024-11-15 15:56:00-05:00  2.405  2.405  2.400  ...    1871        0.0           0.0\n",
       "2024-11-15 15:57:00-05:00  2.400  2.405  2.400  ...    1046        0.0           0.0\n",
       "2024-11-15 15:58:00-05:00  2.400  2.400  2.400  ...    1736        0.0           0.0\n",
       "2024-11-15 15:59:00-05:00  2.401  2.401  2.395  ...   20524        0.0           0.0\n",
       "\n",
       "[180 rows x 7 columns]\n"
      ]
     },
     "metadata": {},
     "output_type": "display_data"
    }
   ],
   "source": [
    "# Define the ticker symbol\n",
    "ticker_symbol = \"ABOS\"\n",
    "\n",
    "# Create a Ticker object\n",
    "ticker = yf.Ticker(ticker_symbol)\n",
    "\n",
    "# Fetch historical market data\n",
    "historical_data = ticker.history(period=\"1d\", interval=\"1m\")  # data for the last year\n",
    "print(\"Historical Data:\")\n",
    "print(historical_data)"
   ]
  },
  {
   "cell_type": "code",
   "execution_count": null,
   "metadata": {},
   "outputs": [
    {
     "data": {
      "text/plain": [
       "original data columns:  MultiIndex([('Adj Close', 'AAPL'),\n",
       "            (    'Close', 'AAPL'),\n",
       "            (     'High', 'AAPL'),\n",
       "            (      'Low', 'AAPL'),\n",
       "            (     'Open', 'AAPL'),\n",
       "            (   'Volume', 'AAPL')],\n",
       "           names=['Price', 'Ticker'])\n",
       "post reset_index data columns:  MultiIndex([(     'Date',     ''),\n",
       "            ('Adj Close', 'AAPL'),\n",
       "            (    'Close', 'AAPL'),\n",
       "            (     'High', 'AAPL'),\n",
       "            (      'Low', 'AAPL'),\n",
       "            (     'Open', 'AAPL'),\n",
       "            (   'Volume', 'AAPL')],\n",
       "           names=['Price', 'Ticker'])\n",
       "post column rename data columns:  Index(['Date', 'Adj Close', 'Close', 'High', 'Low', 'Open', 'Volume'], dtype='object')\n"
      ]
     },
     "metadata": {},
     "output_type": "display_data"
    }
   ],
   "source": [
    "# grab data and plot\n",
    "def load_data(ticker, start, end):\n",
    "    '''\n",
    "        Load data from yfinance\n",
    "        ticker: string of stock ticker\n",
    "        start: string in format 'YYYY-MM-DD'\n",
    "        end: string in format 'YYYY-MM-DD'\n",
    "    '''\n",
    "    data = yf.download(ticker, start, end)\n",
    "    data.reset_index(inplace=True)\n",
    "    data.columns = [f\"{col[0]}\" for col in data.columns]\n",
    "    data['Date'] = data['Date'].apply(lambda x: x.strftime('%Y-%m-%d %H:%M')) # Date fix\n",
    "    return data\n",
    "\n",
    "selected_stock ='AAPL'\n",
    "start_date = '2021-12-01'\n",
    "end_date = '2021-12-31' # TODO: Add date picker\n",
    "\n",
    "# Load data\n",
    "data = load_data(selected_stock, start_date, end_date)\n",
    "# print(data.columns)\n",
    "# print(type(data['Date'][0]))\n",
    "# print(data.head())"
   ]
  },
  {
   "cell_type": "code",
   "execution_count": null,
   "metadata": {},
   "outputs": [],
   "source": [
    "def plot_raw_data(data):\n",
    "    fig = go.Figure()\n",
    "    fig.add_trace(go.Scatter(x=data['Date'], y=data['Open'], name=\"stock_open\"))\n",
    "    fig.add_trace(go.Scatter(x=data['Date'], y=data['Close'], name=\"stock_close\"))\n",
    "    fig.layout.update(title_text='Time Series data with Rangeslider', xaxis_rangeslider_visible=True)\n",
    "    fig.show()\n",
    "# Display data\n",
    "plot_raw_data(data)"
   ]
  },
  {
   "cell_type": "code",
   "execution_count": 1,
   "metadata": {},
   "outputs": [
    {
     "ename": "NameError",
     "evalue": "name 'pd' is not defined",
     "output_type": "error",
     "traceback": [
      "\u001b[1;31m---------------------------------------------------------------------------\u001b[0m",
      "\u001b[1;31mNameError\u001b[0m                                 Traceback (most recent call last)",
      "Cell \u001b[1;32mIn[1], line 1\u001b[0m\n\u001b[1;32m----> 1\u001b[0m amzn_df \u001b[38;5;241m=\u001b[39m \u001b[43mpd\u001b[49m\u001b[38;5;241m.\u001b[39mread_csv(\u001b[38;5;124m'\u001b[39m\u001b[38;5;124mC:/Users/higgj/Market_ML/scripts/data/AMZN/aggregate/AMZN_agg.csv\u001b[39m\u001b[38;5;124m'\u001b[39m)\n\u001b[0;32m      3\u001b[0m start_date \u001b[38;5;241m=\u001b[39m \u001b[38;5;124m'\u001b[39m\u001b[38;5;124m2024-03-01\u001b[39m\u001b[38;5;124m'\u001b[39m\n\u001b[0;32m      4\u001b[0m end_date \u001b[38;5;241m=\u001b[39m \u001b[38;5;124m'\u001b[39m\u001b[38;5;124m2024-03-31\u001b[39m\u001b[38;5;124m'\u001b[39m\n",
      "\u001b[1;31mNameError\u001b[0m: name 'pd' is not defined"
     ]
    }
   ],
   "source": [
    "amzn_df = pd.read_csv('C:/Users/higgj/Market_ML/scripts/data/AMZN/aggregate/AMZN_agg.csv')\n",
    "\n",
    "start_date = '2024-03-01'\n",
    "end_date = '2024-03-31'\n",
    "\n",
    "# Convert 'Timestamp' column to datetime, filter on March 2024\n",
    "amzn_df['Timestamp'] = pd.to_datetime(amzn_df['Timestamp'])\n",
    "mar_df = amzn_df[(amzn_df['Timestamp'] >= start_date) & (amzn_df['Timestamp'] <= end_date)]\n",
    "\n",
    "# Display data\n",
    "plot_raw_data(mar_df)"
   ]
  }
 ],
 "metadata": {
  "kernelspec": {
   "display_name": "Python 3",
   "language": "python",
   "name": "python3"
  },
  "language_info": {
   "codemirror_mode": {
    "name": "ipython",
    "version": 3
   },
   "file_extension": ".py",
   "mimetype": "text/x-python",
   "name": "python",
   "nbconvert_exporter": "python",
   "pygments_lexer": "ipython3",
   "version": "3.12.8"
  }
 },
 "nbformat": 4,
 "nbformat_minor": 2
}
