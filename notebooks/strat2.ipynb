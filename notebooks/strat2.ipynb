{
 "cells": [
  {
   "cell_type": "markdown",
   "metadata": {},
   "source": [
    "### Strat 2: Market Event Momentum Analysis\n",
    "When a market event occurs (i.e. GDP data releases, inflation reports, corporate earnings announcements, geopolitical events, etc.), what is the time-frame in which a stock's price is affected?\n",
    "- When a positive event happens, how long is a stock price is increasing?\n",
    "\n",
    "#### Plan\n",
    "- Use various earnings calls and analyze the relationship between news and the market impact\n",
    "    - If revenue:\n",
    "        - Increases by $x$% will, will $x$ relate to the change in share price?\n",
    "        - Beats expectation by $x$%, will $x$ relate to the change in share price?\n",
    "- In biotech, announcements relating to the approval of a drug or how clinical testing are considered market events\n",
    "    - Similar testing to earnings calls"
   ]
  },
  {
   "cell_type": "code",
   "execution_count": null,
   "metadata": {},
   "outputs": [
    {
     "ename": "ModuleNotFoundError",
     "evalue": "No module named 'get_finazon_data'",
     "output_type": "error",
     "traceback": [
      "\u001b[1;31m---------------------------------------------------------------------------\u001b[0m",
      "\u001b[1;31mModuleNotFoundError\u001b[0m                       Traceback (most recent call last)",
      "Cell \u001b[1;32mIn[20], line 4\u001b[0m\n\u001b[0;32m      2\u001b[0m \u001b[38;5;28;01mimport\u001b[39;00m \u001b[38;5;21;01mnumpy\u001b[39;00m \u001b[38;5;28;01mas\u001b[39;00m \u001b[38;5;21;01mnp\u001b[39;00m\n\u001b[0;32m      3\u001b[0m \u001b[38;5;28;01mfrom\u001b[39;00m \u001b[38;5;21;01mplotly\u001b[39;00m \u001b[38;5;28;01mimport\u001b[39;00m graph_objs \u001b[38;5;28;01mas\u001b[39;00m go\n\u001b[1;32m----> 4\u001b[0m \u001b[38;5;28;01mfrom\u001b[39;00m \u001b[38;5;21;01mget_finazon_data\u001b[39;00m \u001b[38;5;28;01mimport\u001b[39;00m unix_to_datetime, datetime_to_unix\n",
      "\u001b[1;31mModuleNotFoundError\u001b[0m: No module named 'get_finazon_data'"
     ]
    }
   ],
   "source": [
    "import pandas as pd\n",
    "import numpy as np\n",
    "from plotly import graph_objs as go\n",
    "# from get_finazon_data import unix_to_datetime, datetime_to_unix"
   ]
  },
  {
   "cell_type": "code",
   "execution_count": 17,
   "metadata": {},
   "outputs": [
    {
     "name": "stdout",
     "output_type": "stream",
     "text": [
      "Data spans: 2023-08-17 03:59:00 to 2024-08-16 08:00:00\n"
     ]
    }
   ],
   "source": [
    "\"\"\" \n",
    " Using minute by minute data\n",
    " Ex.\n",
    "    |Timestamp           | Open   |  High   | Low    | Close  | Volume | Unix\n",
    "    |2023-08-17 03:59:00 | 134.67 |  134.67 | 134.67 | 134.67 | 5.0    | 1692269940\n",
    "\"\"\"\n",
    "filepath = \"../data/AMZN/aggregate/AMZN_complete.csv\"\n",
    "df = pd.read_csv(filepath)\n",
    "print(f'Data spans: {df['Timestamp'][0]} to {df['Timestamp'][len(df)-1]}')"
   ]
  },
  {
   "cell_type": "code",
   "execution_count": null,
   "metadata": {},
   "outputs": [
    {
     "name": "stdout",
     "output_type": "stream",
     "text": [
      "1\n"
     ]
    }
   ],
   "source": [
    "# Day and week graphs for these days\n",
    "\"\"\"\n",
    "Amazon Earnings calls occurred on:\n",
    "\n",
    "    Oct 31, 2024 02:00 PM PT\n",
    "\n",
    "    Aug 01, 2024 02:30 PM PT\n",
    "\n",
    "    Apr 30, 2024 02:30 PM PT\n",
    "\n",
    "    Feb 01, 2024 02:30 PM PT\n",
    "\n",
    "    Oct 26, 2023 02:30 PM PT\n",
    "\n",
    "\"\"\"\n",
    "\n",
    "# fig = go.Figure()\n",
    "# fig.add_trace(go.Scatter(x=data['Date'], y=data['Open'], name=\"stock_open\"))\n",
    "# fig.add_trace(go.Scatter(x=data['Date'], y=data['Close'], name=\"stock_close\"))"
   ]
  }
 ],
 "metadata": {
  "kernelspec": {
   "display_name": "Python 3",
   "language": "python",
   "name": "python3"
  },
  "language_info": {
   "codemirror_mode": {
    "name": "ipython",
    "version": 3
   },
   "file_extension": ".py",
   "mimetype": "text/x-python",
   "name": "python",
   "nbconvert_exporter": "python",
   "pygments_lexer": "ipython3",
   "version": "3.12.9"
  }
 },
 "nbformat": 4,
 "nbformat_minor": 2
}
