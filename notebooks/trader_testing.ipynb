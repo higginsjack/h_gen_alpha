{
 "cells": [
  {
   "cell_type": "markdown",
   "metadata": {},
   "source": [
    "**Begin Data Prep**"
   ]
  },
  {
   "cell_type": "code",
   "execution_count": null,
   "metadata": {},
   "outputs": [
    {
     "data": {
      "text/plain": [
       "Traceback (most recent call last):\n",
       "  File \"c:\\Users\\higgj\\.vscode\\extensions\\ms-python.python-2024.20.0-win32-x64\\python_files\\python_server.py\", line 130, in exec_user_input\n",
       "    retval = callable_(user_input, user_globals)\n",
       "             ^^^^^^^^^^^^^^^^^^^^^^^^^^^^^^^^^^^\n",
       "  File \"<string>\", line 1, in <module>\n",
       "ModuleNotFoundError: No module named 'traderRNN'\n",
       "\n"
      ]
     },
     "metadata": {},
     "output_type": "display_data"
    }
   ],
   "source": [
    "from traderRNN import StockTraderRNN as STRNN\n",
    "import numpy as np\n",
    "import pandas as pd\n",
    "# import tensorflow as tf\n",
    "# from tensorflow.keras.models import Sequential\n",
    "# from tensorflow.keras.layers import LSTM, Dense, Dropout\n",
    "# from sklearn.preprocessing import MinMaxScaler\n",
    "# import matplotlib.pyplot as plt"
   ]
  },
  {
   "cell_type": "code",
   "execution_count": 2,
   "metadata": {},
   "outputs": [
    {
     "name": "stdout",
     "output_type": "stream",
     "text": [
      "COLUMNS: \n",
      "   ['Timestamp', 'Open', 'High', 'Low', 'Close', 'Volume', 'Unix'] \n",
      "\n",
      "\n",
      "Time span of available data: \n",
      "   2024-08-16 23:59:00  to  2023-08-16 10:05:00\n"
     ]
    }
   ],
   "source": [
    "df_all = pd.read_csv('data/AMZN/aggregate/AMZN_agg.csv')\n",
    "df_all.sort_values(by='Unix', ascending=False, inplace=True)\n",
    "print(\"COLUMNS: \\n  \", list(df_all.columns), \"\\n\\n\")\n",
    "print(\"Time span of available data: \\n  \", df_all['Timestamp'].iloc[0], \" to \", df_all['Timestamp'].iloc[-1])"
   ]
  },
  {
   "cell_type": "code",
   "execution_count": 3,
   "metadata": {},
   "outputs": [
    {
     "name": "stdout",
     "output_type": "stream",
     "text": [
      "COLUMNS: \n",
      "   Index(['Timestamp', 'Open', 'High', 'Low', 'Close', 'Volume', 'Unix'], dtype='object') \n",
      "\n",
      "\n",
      "TRAINING DATA\n",
      "     Length of training data: 183602\n",
      "     Time span of training data: 2024-08-16 23:59:00  to  2023-11-16 21:10:00 \n",
      "\n",
      "\n",
      "TESTING DATA\n",
      "     Length of testing data: 61201\n",
      "     Time span of testing data: 2023-11-16 21:09:00  to  2023-08-16 10:05:00\n"
     ]
    }
   ],
   "source": [
    "# Get training data\n",
    "train_df = df_all.iloc[:int(len(df_all) * 0.75)] # 75% of data for training\n",
    "test_df = df_all.iloc[int(len(df_all) * 0.75):] # 25% of data for testing\n",
    "\n",
    "print(\"COLUMNS: \\n  \", train_df.columns, \"\\n\\n\")\n",
    "print(\"TRAINING DATA\")\n",
    "print(\"     Length of training data:\", len(train_df))\n",
    "print(\"     Time span of training data:\", train_df['Timestamp'].iloc[0], \" to \", train_df['Timestamp'].iloc[-1], \"\\n\\n\")\n",
    "print(\"TESTING DATA\")\n",
    "print(\"     Length of testing data:\", len(test_df))\n",
    "print(\"     Time span of testing data:\", test_df['Timestamp'].iloc[0], \" to \", test_df['Timestamp'].iloc[-1])"
   ]
  },
  {
   "cell_type": "markdown",
   "metadata": {},
   "source": [
    "**Begin Trader creation**\n",
    "\n",
    "\n",
    "* __Constructor__: Sets default values for key parameters, such as window_size, epochs, and batch_size, which are essential to the RNN training process. Initializes a MinMax scaler and an untrained model.\n",
    "\n",
    "* __Preprocess Data (preprocess_data)__: Scales data and generates sequences based on window_size. It labels data as 'Buy', 'Sell', or 'Hold' based on specific conditions.\n",
    "\n",
    "* __Model Creation (create_model)__: Configures the RNN model structure using LSTM layers and dropout layers. It allows customization through parameters such as the number of LSTM units, dense units, optimizer, and loss function, making it adaptable to various settings.\n",
    "\n",
    "* __Train (train)__: Prepares the data, initializes the model, and trains it with the specified features (X) and labels (y), or it preprocesses the data if not provided.\n",
    "\n",
    "* __Prediction (make_prediction)__: Predicts actions on recent data, returning a 'Buy', 'Sell', or 'Hold' decision based on the highest probability.\n",
    "\n",
    "* __Plot Predictions (plot_price_predictions)__: Compares and plots actual vs. predicted actions to visually assess model accuracy.\n",
    "\n",
    "* __Evaluate (evaluate)__: Tests the model on test data and returns accuracy to measure performance.\n",
    "\n",
    "* __Save Model (save_model)__: Saves the trained model to a specified path for future use."
   ]
  },
  {
   "cell_type": "code",
   "execution_count": 4,
   "metadata": {},
   "outputs": [],
   "source": [
    "# Initialize model\n",
    "trader = STRNN(name='amzn_01', window_size=86400, epochs=3, batch_size=64) # TODO: Change window size to something longer"
   ]
  },
  {
   "cell_type": "code",
   "execution_count": null,
   "metadata": {},
   "outputs": [],
   "source": [
    "# Preprocess data\n",
    "feature_list = ['Open','High','Low','Close','Volume'] #TODO: add/test features \n",
    "X_train, y_train = trader.preprocess_data(df=train_df, features=feature_list)"
   ]
  },
  {
   "cell_type": "code",
   "execution_count": 6,
   "metadata": {},
   "outputs": [
    {
     "name": "stderr",
     "output_type": "stream",
     "text": [
      "C:\\Users\\higgj\\AppData\\Local\\Packages\\PythonSoftwareFoundation.Python.3.12_qbz5n2kfra8p0\\LocalCache\\local-packages\\Python312\\site-packages\\keras\\src\\layers\\rnn\\rnn.py:204: UserWarning: Do not pass an `input_shape`/`input_dim` argument to a layer. When using Sequential models, prefer using an `Input(shape)` object as the first layer in the model instead.\n",
      "  super().__init__(**kwargs)\n"
     ]
    },
    {
     "name": "stdout",
     "output_type": "stream",
     "text": [
      "Epoch 1/3\n",
      "\u001b[1m2868/2868\u001b[0m \u001b[32m━━━━━━━━━━━━━━━━━━━━\u001b[0m\u001b[37m\u001b[0m \u001b[1m68s\u001b[0m 23ms/step - accuracy: 0.9992 - loss: 0.0211\n",
      "Epoch 2/3\n",
      "\u001b[1m2868/2868\u001b[0m \u001b[32m━━━━━━━━━━━━━━━━━━━━\u001b[0m\u001b[37m\u001b[0m \u001b[1m62s\u001b[0m 22ms/step - accuracy: 0.9995 - loss: 0.0049\n",
      "Epoch 3/3\n",
      "\u001b[1m2868/2868\u001b[0m \u001b[32m━━━━━━━━━━━━━━━━━━━━\u001b[0m\u001b[37m\u001b[0m \u001b[1m63s\u001b[0m 22ms/step - accuracy: 0.9996 - loss: 0.0042\n"
     ]
    },
    {
     "data": {
      "text/plain": [
       "<keras.src.callbacks.history.History at 0x1b0dc215610>"
      ]
     },
     "execution_count": 6,
     "metadata": {},
     "output_type": "execute_result"
    }
   ],
   "source": [
    "# Train model\n",
    "trader.train(train_df, X_train, y_train)"
   ]
  },
  {
   "cell_type": "code",
   "execution_count": 7,
   "metadata": {},
   "outputs": [
    {
     "name": "stdout",
     "output_type": "stream",
     "text": [
      "\u001b[1m1911/1911\u001b[0m \u001b[32m━━━━━━━━━━━━━━━━━━━━\u001b[0m\u001b[37m\u001b[0m \u001b[1m11s\u001b[0m 5ms/step - accuracy: 0.9995 - loss: 0.0044\n",
      "Model Accuracy: 0.9995747804641724\n"
     ]
    }
   ],
   "source": [
    "# Test model\n",
    "X_test, y_test = trader.preprocess_data(df=test_df, features=feature_list) \n",
    "accuracy = trader.evaluate(X_test, y_test)\n",
    "print(\"Model Accuracy:\", accuracy)"
   ]
  },
  {
   "cell_type": "code",
   "execution_count": 8,
   "metadata": {},
   "outputs": [
    {
     "name": "stdout",
     "output_type": "stream",
     "text": [
      "\u001b[1m1911/1911\u001b[0m \u001b[32m━━━━━━━━━━━━━━━━━━━━\u001b[0m\u001b[37m\u001b[0m \u001b[1m11s\u001b[0m 6ms/step\n"
     ]
    },
    {
     "data": {
      "image/png": "[encoded data removed]",
      "text/plain": [
       "<Figure size 640x480 with 1 Axes>"
      ]
     },
     "metadata": {},
     "output_type": "display_data"
    }
   ],
   "source": [
    "# Plot results\n",
    "trader.plot_price_predictions(test_df, X_test, y_test)"
   ]
  },
  {
   "cell_type": "code",
   "execution_count": 9,
   "metadata": {},
   "outputs": [
    {
     "name": "stderr",
     "output_type": "stream",
     "text": [
      "WARNING:absl:You are saving your model as an HDF5 file via `model.save()` or `keras.saving.save_model(model)`. This file format is considered legacy. We recommend using instead the native Keras format, e.g. `model.save('my_model.keras')` or `keras.saving.save_model(model, 'my_model.keras')`. \n"
     ]
    }
   ],
   "source": [
    "# Save model (optional)\n",
    "trader.save_model('models/')"
   ]
  }
 ],
 "metadata": {
  "kernelspec": {
   "display_name": "Python 3",
   "language": "python",
   "name": "python3"
  },
  "language_info": {
   "codemirror_mode": {
    "name": "ipython",
    "version": 3
   },
   "file_extension": ".py",
   "mimetype": "text/x-python",
   "name": "python",
   "nbconvert_exporter": "python",
   "pygments_lexer": "ipython3",
   "version": "3.12.7"
  }
 },
 "nbformat": 4,
 "nbformat_minor": 2
}
